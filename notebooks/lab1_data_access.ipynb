{
 "cells": [
  {
   "cell_type": "markdown",
   "id": "287836a2-547a-422d-a05e-c9890271678b",
   "metadata": {},
   "source": [
    "# Data Access"
   ]
  },
  {
   "cell_type": "code",
   "execution_count": 1,
   "id": "9976fdb8-08e8-429b-8d43-dbb20de5be45",
   "metadata": {
    "execution": {
     "iopub.execute_input": "2025-02-23T06:56:23.664499Z",
     "iopub.status.busy": "2025-02-23T06:56:23.663816Z",
     "iopub.status.idle": "2025-02-23T06:56:24.169729Z",
     "shell.execute_reply": "2025-02-23T06:56:24.168448Z",
     "shell.execute_reply.started": "2025-02-23T06:56:23.664439Z"
    }
   },
   "outputs": [],
   "source": [
    "import os\n",
    "import gzip\n",
    "import json\n",
    "import isbnlib\n",
    "import pandas as pd\n",
    "import numpy as np\n",
    "from tqdm import tqdm\n",
    "from datetime import datetime\n",
    "\n",
    "%load_ext autoreload\n",
    "%autoreload 2"
   ]
  },
  {
   "cell_type": "code",
   "execution_count": 2,
   "id": "ea27cccc-dbb5-4499-8903-f50fe49ee703",
   "metadata": {
    "execution": {
     "iopub.execute_input": "2025-02-23T06:56:27.429219Z",
     "iopub.status.busy": "2025-02-23T06:56:27.428335Z",
     "iopub.status.idle": "2025-02-23T06:56:27.464674Z",
     "shell.execute_reply": "2025-02-23T06:56:27.463694Z",
     "shell.execute_reply.started": "2025-02-23T06:56:27.429154Z"
    }
   },
   "outputs": [
    {
     "data": {
      "text/plain": [
       "['robots.txt.tmp',\n",
       " 'ol_dump_editions_latest.txt.gz',\n",
       " 'ol_dump_works_latest.txt.gz',\n",
       " 'ol_dump_authors_latest.txt.gz',\n",
       " 'ol_dump_latest.txt.gz',\n",
       " 'ol_cdump_latest.txt.gz',\n",
       " 'ol_dump_ratings_latest.txt.gz',\n",
       " 'ol_dump_reading-log_latest.txt.gz']"
      ]
     },
     "execution_count": 2,
     "metadata": {},
     "output_type": "execute_result"
    }
   ],
   "source": [
    "data_base_path = \"../data/\"\n",
    "base_path = \"/mnt/data/public/openlibrary/20221007/\"\n",
    "os.listdir(base_path)"
   ]
  },
  {
   "cell_type": "code",
   "execution_count": 3,
   "id": "1142a0a2-8281-4366-b4dc-55d192582b09",
   "metadata": {
    "execution": {
     "iopub.execute_input": "2025-02-23T06:56:29.051865Z",
     "iopub.status.busy": "2025-02-23T06:56:29.051127Z",
     "iopub.status.idle": "2025-02-23T06:56:29.084287Z",
     "shell.execute_reply": "2025-02-23T06:56:29.083369Z",
     "shell.execute_reply.started": "2025-02-23T06:56:29.051789Z"
    }
   },
   "outputs": [
    {
     "name": "stdout",
     "output_type": "stream",
     "text": [
      "/home/msds2025/acastillo/dmw2-2025/lab1/dmw2/notebooks\n"
     ]
    }
   ],
   "source": [
    "print(os.getcwd())"
   ]
  },
  {
   "cell_type": "code",
   "execution_count": 5,
   "id": "0f07a5a6-3319-4f8a-b46f-d76cf6dc0d8e",
   "metadata": {
    "execution": {
     "iopub.execute_input": "2025-02-23T06:56:49.334381Z",
     "iopub.status.busy": "2025-02-23T06:56:49.333766Z",
     "iopub.status.idle": "2025-02-23T06:56:49.375507Z",
     "shell.execute_reply": "2025-02-23T06:56:49.374826Z",
     "shell.execute_reply.started": "2025-02-23T06:56:49.334323Z"
    }
   },
   "outputs": [],
   "source": [
    "files = {\n",
    "    \"ol_dump_works_latest.txt.gz\": {\n",
    "        \"total_lines\": 26201547,\n",
    "        \"max_last_modified_date\": datetime(2022, 9, 30, 23, 59, 50, 674192),\n",
    "    },\n",
    "    \"ol_dump_editions_latest.txt.gz\": {\n",
    "        \"total_lines\": 36657084,\n",
    "        \"max_last_modified_date\": datetime(2022, 9, 30, 23, 59, 50, 674192),\n",
    "    },\n",
    "    \"ol_dump_authors_latest.txt.gz\": {\n",
    "        \"total_lines\": 9867148,\n",
    "        \"max_last_modified_date\": datetime(2022, 9, 30, 23, 59, 50, 674192),\n",
    "    },\n",
    "    \"ol_dump_reading-log_latest.txt.gz\": {\n",
    "        \"total_lines\": 4355023,\n",
    "        \"max_last_modified_date\": None,\n",
    "    },\n",
    "    \"editions_after_2015.txt\": {\n",
    "        \"total_lines\": 4259552,\n",
    "    },\n",
    "    \"filtered_works_with_editions.txt\": {\n",
    "        \"total_lines\": 909883\n",
    "    },\n",
    "    \"filtered_authors_with_works_and_editions.txt\": {\n",
    "        \"total_lines\": 853086,\n",
    "    }\n",
    "}"
   ]
  },
  {
   "cell_type": "code",
   "execution_count": 6,
   "id": "6a5f22f3-49af-490d-b98a-e5734ed33701",
   "metadata": {
    "execution": {
     "iopub.execute_input": "2025-02-23T06:56:50.522850Z",
     "iopub.status.busy": "2025-02-23T06:56:50.522191Z",
     "iopub.status.idle": "2025-02-23T06:56:50.556258Z",
     "shell.execute_reply": "2025-02-23T06:56:50.554881Z",
     "shell.execute_reply.started": "2025-02-23T06:56:50.522795Z"
    }
   },
   "outputs": [
    {
     "data": {
      "text/plain": [
       "{'ol_dump_works_latest.txt.gz': {'total_lines': 26201547,\n",
       "  'max_last_modified_date': datetime.datetime(2022, 9, 30, 23, 59, 50, 674192)},\n",
       " 'ol_dump_editions_latest.txt.gz': {'total_lines': 36657084,\n",
       "  'max_last_modified_date': datetime.datetime(2022, 9, 30, 23, 59, 50, 674192)},\n",
       " 'ol_dump_authors_latest.txt.gz': {'total_lines': 9867148,\n",
       "  'max_last_modified_date': datetime.datetime(2022, 9, 30, 23, 59, 50, 674192)},\n",
       " 'ol_dump_reading-log_latest.txt.gz': {'total_lines': 4355023,\n",
       "  'max_last_modified_date': None},\n",
       " 'editions_after_2015.txt': {'total_lines': 4259552},\n",
       " 'filtered_works_with_editions.txt': {'total_lines': 909883},\n",
       " 'filtered_authors_with_works_and_editions.txt': {'total_lines': 853086}}"
      ]
     },
     "execution_count": 6,
     "metadata": {},
     "output_type": "execute_result"
    }
   ],
   "source": [
    "files"
   ]
  },
  {
   "cell_type": "markdown",
   "id": "663374a6-ee23-4e33-ae44-7698b2cae3a3",
   "metadata": {},
   "source": [
    "### Editions\n",
    "Extract only editions published after 2015"
   ]
  },
  {
   "cell_type": "code",
   "execution_count": 7,
   "id": "c80e70c4-b76d-4321-84a6-b1b67bc2c3bb",
   "metadata": {
    "execution": {
     "iopub.execute_input": "2025-02-23T06:21:05.625515Z",
     "iopub.status.busy": "2025-02-23T06:21:05.624852Z",
     "iopub.status.idle": "2025-02-23T06:21:05.655821Z",
     "shell.execute_reply": "2025-02-23T06:21:05.654930Z",
     "shell.execute_reply.started": "2025-02-23T06:21:05.625458Z"
    }
   },
   "outputs": [],
   "source": [
    "# !zgrep -E '\"publish_date\": \"(20(1[6-9]|[2-9][0-9]))([^\"]*)?\"' /mnt/data/public/openlibrary/20221007/ol_dump_editions_latest.txt.gz > /home/msds2025/acastillo/dmw2-2025/lab1/dmw2/data/editions_after_2015.txt"
   ]
  },
  {
   "cell_type": "code",
   "execution_count": 8,
   "id": "9beacac1-7fe8-4a51-ae46-ca51b80db539",
   "metadata": {
    "execution": {
     "iopub.execute_input": "2025-02-23T06:57:48.968036Z",
     "iopub.status.busy": "2025-02-23T06:57:48.967337Z",
     "iopub.status.idle": "2025-02-23T06:57:49.975311Z",
     "shell.execute_reply": "2025-02-23T06:57:49.973376Z",
     "shell.execute_reply.started": "2025-02-23T06:57:48.967970Z"
    }
   },
   "outputs": [
    {
     "name": "stdout",
     "output_type": "stream",
     "text": [
      "4259552 /home/msds2025/acastillo/dmw2-2025/lab1/dmw2/data/editions_after_2015.txt\n"
     ]
    }
   ],
   "source": [
    "!wc -l /home/msds2025/acastillo/dmw2-2025/lab1/dmw2/data/editions_after_2015.txt"
   ]
  },
  {
   "cell_type": "code",
   "execution_count": 9,
   "id": "a7b4b4c8-27cd-499a-ae59-4155bf4b23dc",
   "metadata": {
    "execution": {
     "iopub.execute_input": "2025-02-23T06:58:07.466012Z",
     "iopub.status.busy": "2025-02-23T06:58:07.465308Z",
     "iopub.status.idle": "2025-02-23T06:58:07.508930Z",
     "shell.execute_reply": "2025-02-23T06:58:07.508222Z",
     "shell.execute_reply.started": "2025-02-23T06:58:07.465944Z"
    }
   },
   "outputs": [
    {
     "data": {
      "text/plain": [
       "4259552"
      ]
     },
     "execution_count": 9,
     "metadata": {},
     "output_type": "execute_result"
    }
   ],
   "source": [
    "file_name = \"editions_after_2015.txt\"\n",
    "total_lines = files[\"editions_after_2015.txt\"][\"total_lines\"]\n",
    "total_lines"
   ]
  },
  {
   "cell_type": "code",
   "execution_count": 10,
   "id": "9d9a87f0-997b-48bf-8571-58d31afda735",
   "metadata": {
    "execution": {
     "iopub.execute_input": "2025-02-23T06:58:11.495774Z",
     "iopub.status.busy": "2025-02-23T06:58:11.494918Z",
     "iopub.status.idle": "2025-02-23T06:59:41.140438Z",
     "shell.execute_reply": "2025-02-23T06:59:41.139547Z",
     "shell.execute_reply.started": "2025-02-23T06:58:11.495716Z"
    }
   },
   "outputs": [
    {
     "name": "stderr",
     "output_type": "stream",
     "text": [
      "Processing lines: 100%|██████████| 4259552/4259552 [01:29<00:00, 47539.70it/s]\n"
     ]
    }
   ],
   "source": [
    "df_dict = {}\n",
    "with open(os.path.join(data_base_path, file_name), \"r\", encoding=\"utf-8\") as f:\n",
    "    for i, line in enumerate(tqdm(f, total=total_lines, desc=\"Processing lines\")):\n",
    "        # if i >= 200:\n",
    "        #     break\n",
    "        \n",
    "        parts = line.strip().split(\"\\t\", maxsplit=4)\n",
    "        if len(parts) < 5:\n",
    "            skipped_lines += 1\n",
    "            continue\n",
    "        \n",
    "        record_type, id, revision, timestamp, json_data = parts\n",
    "\n",
    "        try:\n",
    "            data_dict = json.loads(json_data)\n",
    "\n",
    "\n",
    "            try:\n",
    "                works_id = data_dict.get(\"works\", np.nan)[0][\"key\"]\n",
    "            except TypeError:\n",
    "                continue\n",
    "\n",
    "            try:\n",
    "                description = data_dict.get(\"description\", np.nan).get(\"value\", np.nan)\n",
    "            except AttributeError:\n",
    "                description = data_dict.get(\"description\", np.nan)\n",
    "                \n",
    "            row_data = {\n",
    "                \"record_type\": record_type,\n",
    "                \"book_id\": id,\n",
    "                \"publishers\": data_dict.get(\"publishers\", np.nan),\n",
    "                \"title\": data_dict.get(\"title\", np.nan),\n",
    "                \"description\": description,\n",
    "                \"first_sentence\": data_dict.get(\"first_sentence\", np.nan),\n",
    "                \"subjects\": data_dict.get(\"subjects\", np.nan),\n",
    "                \"date_created\": data_dict.get(\"created\", np.nan).get(\"value\", np.nan),\n",
    "                \"isbn_13\": data_dict.get(\"isbn_13\", \"000\"),\n",
    "                \"publish_date\": data_dict.get(\"publish_date\", np.nan),\n",
    "                \"publish_country\": data_dict.get(\"publish_country\", np.nan),\n",
    "                \"number_of_pages\": data_dict.get(\"number_of_pages\", np.nan),\n",
    "                \"latest_revision\": data_dict.get(\"latest_revision\", np.nan),\n",
    "                \"work_id\": works_id\n",
    "            }\n",
    "\n",
    "            df_dict[i] = row_data\n",
    "\n",
    "            # if all(value is not np.nan for value in row_data.values()):\n",
    "            #     df_dict[i] = row_data\n",
    "    \n",
    "        except json.JSONDecodeError:\n",
    "            print(f\"JSON Decode Error on line {i}\")"
   ]
  },
  {
   "cell_type": "code",
   "execution_count": 11,
   "id": "163762ba-3aff-48e6-a5f3-3ee37382a4b6",
   "metadata": {
    "execution": {
     "iopub.execute_input": "2025-02-23T06:59:41.141634Z",
     "iopub.status.busy": "2025-02-23T06:59:41.141411Z",
     "iopub.status.idle": "2025-02-23T07:00:14.061133Z",
     "shell.execute_reply": "2025-02-23T07:00:14.060559Z",
     "shell.execute_reply.started": "2025-02-23T06:59:41.141616Z"
    }
   },
   "outputs": [
    {
     "data": {
      "text/html": [
       "<div>\n",
       "<style scoped>\n",
       "    .dataframe tbody tr th:only-of-type {\n",
       "        vertical-align: middle;\n",
       "    }\n",
       "\n",
       "    .dataframe tbody tr th {\n",
       "        vertical-align: top;\n",
       "    }\n",
       "\n",
       "    .dataframe thead th {\n",
       "        text-align: right;\n",
       "    }\n",
       "</style>\n",
       "<table border=\"1\" class=\"dataframe\">\n",
       "  <thead>\n",
       "    <tr style=\"text-align: right;\">\n",
       "      <th></th>\n",
       "      <th>record_type</th>\n",
       "      <th>book_id</th>\n",
       "      <th>publishers</th>\n",
       "      <th>title</th>\n",
       "      <th>description</th>\n",
       "      <th>first_sentence</th>\n",
       "      <th>subjects</th>\n",
       "      <th>date_created</th>\n",
       "      <th>isbn_13</th>\n",
       "      <th>publish_date</th>\n",
       "      <th>publish_country</th>\n",
       "      <th>number_of_pages</th>\n",
       "      <th>latest_revision</th>\n",
       "      <th>work_id</th>\n",
       "    </tr>\n",
       "  </thead>\n",
       "  <tbody>\n",
       "    <tr>\n",
       "      <th>0</th>\n",
       "      <td>/type/edition</td>\n",
       "      <td>/books/OL24367788M</td>\n",
       "      <td>[PUBLICAT S. A.]</td>\n",
       "      <td>Akademia Canterwood: Wysokie Aspiracje</td>\n",
       "      <td>W elitarnym gronie\\r\\n\\r\\nPo powrocie z ferii ...</td>\n",
       "      <td>NaN</td>\n",
       "      <td>NaN</td>\n",
       "      <td>2010-09-28T19:36:49.368985</td>\n",
       "      <td>[9788327155238]</td>\n",
       "      <td>2016</td>\n",
       "      <td>NaN</td>\n",
       "      <td>213.0</td>\n",
       "      <td>5</td>\n",
       "      <td>/works/OL15386091W</td>\n",
       "    </tr>\n",
       "    <tr>\n",
       "      <th>1</th>\n",
       "      <td>/type/edition</td>\n",
       "      <td>/books/OL25896697M</td>\n",
       "      <td>[Barbour]</td>\n",
       "      <td>Too Blessed to Be Stressed</td>\n",
       "      <td>NaN</td>\n",
       "      <td>NaN</td>\n",
       "      <td>NaN</td>\n",
       "      <td>2016-03-16T12:15:21.831726</td>\n",
       "      <td>[9781634095693]</td>\n",
       "      <td>2016</td>\n",
       "      <td>NaN</td>\n",
       "      <td>NaN</td>\n",
       "      <td>4</td>\n",
       "      <td>/works/OL17321171W</td>\n",
       "    </tr>\n",
       "    <tr>\n",
       "      <th>2</th>\n",
       "      <td>/type/edition</td>\n",
       "      <td>/books/OL25896725M</td>\n",
       "      <td>[Montena]</td>\n",
       "      <td>Fuera llueve, dentro también, ¿paso a buscarte?</td>\n",
       "      <td>NaN</td>\n",
       "      <td>NaN</td>\n",
       "      <td>NaN</td>\n",
       "      <td>2016-03-16T16:42:51.036657</td>\n",
       "      <td>[9788490435656]</td>\n",
       "      <td>2016</td>\n",
       "      <td>NaN</td>\n",
       "      <td>NaN</td>\n",
       "      <td>3</td>\n",
       "      <td>/works/OL17321197W</td>\n",
       "    </tr>\n",
       "    <tr>\n",
       "      <th>3</th>\n",
       "      <td>/type/edition</td>\n",
       "      <td>/books/OL25898027M</td>\n",
       "      <td>[Pálido Fuego]</td>\n",
       "      <td>Satin Island</td>\n",
       "      <td>NaN</td>\n",
       "      <td>NaN</td>\n",
       "      <td>NaN</td>\n",
       "      <td>2016-03-23T09:01:37.048834</td>\n",
       "      <td>[9788494365577]</td>\n",
       "      <td>2016</td>\n",
       "      <td>NaN</td>\n",
       "      <td>NaN</td>\n",
       "      <td>3</td>\n",
       "      <td>/works/OL17322236W</td>\n",
       "    </tr>\n",
       "    <tr>\n",
       "      <th>4</th>\n",
       "      <td>/type/edition</td>\n",
       "      <td>/books/OL25898429M</td>\n",
       "      <td>[Pregunta Ediciones]</td>\n",
       "      <td>La península de Cilemaga</td>\n",
       "      <td>NaN</td>\n",
       "      <td>NaN</td>\n",
       "      <td>NaN</td>\n",
       "      <td>2016-03-28T07:53:55.863861</td>\n",
       "      <td>[9788494519512]</td>\n",
       "      <td>2016</td>\n",
       "      <td>NaN</td>\n",
       "      <td>NaN</td>\n",
       "      <td>4</td>\n",
       "      <td>/works/OL17322587W</td>\n",
       "    </tr>\n",
       "  </tbody>\n",
       "</table>\n",
       "</div>"
      ],
      "text/plain": [
       "     record_type             book_id            publishers  \\\n",
       "0  /type/edition  /books/OL24367788M      [PUBLICAT S. A.]   \n",
       "1  /type/edition  /books/OL25896697M             [Barbour]   \n",
       "2  /type/edition  /books/OL25896725M             [Montena]   \n",
       "3  /type/edition  /books/OL25898027M        [Pálido Fuego]   \n",
       "4  /type/edition  /books/OL25898429M  [Pregunta Ediciones]   \n",
       "\n",
       "                                             title  \\\n",
       "0           Akademia Canterwood: Wysokie Aspiracje   \n",
       "1                       Too Blessed to Be Stressed   \n",
       "2  Fuera llueve, dentro también, ¿paso a buscarte?   \n",
       "3                                     Satin Island   \n",
       "4                         La península de Cilemaga   \n",
       "\n",
       "                                         description first_sentence subjects  \\\n",
       "0  W elitarnym gronie\\r\\n\\r\\nPo powrocie z ferii ...            NaN      NaN   \n",
       "1                                                NaN            NaN      NaN   \n",
       "2                                                NaN            NaN      NaN   \n",
       "3                                                NaN            NaN      NaN   \n",
       "4                                                NaN            NaN      NaN   \n",
       "\n",
       "                 date_created          isbn_13 publish_date publish_country  \\\n",
       "0  2010-09-28T19:36:49.368985  [9788327155238]         2016             NaN   \n",
       "1  2016-03-16T12:15:21.831726  [9781634095693]         2016             NaN   \n",
       "2  2016-03-16T16:42:51.036657  [9788490435656]         2016             NaN   \n",
       "3  2016-03-23T09:01:37.048834  [9788494365577]         2016             NaN   \n",
       "4  2016-03-28T07:53:55.863861  [9788494519512]         2016             NaN   \n",
       "\n",
       "   number_of_pages  latest_revision             work_id  \n",
       "0            213.0                5  /works/OL15386091W  \n",
       "1              NaN                4  /works/OL17321171W  \n",
       "2              NaN                3  /works/OL17321197W  \n",
       "3              NaN                3  /works/OL17322236W  \n",
       "4              NaN                4  /works/OL17322587W  "
      ]
     },
     "execution_count": 11,
     "metadata": {},
     "output_type": "execute_result"
    }
   ],
   "source": [
    "df = pd.DataFrame.from_dict(df_dict, orient=\"index\")\n",
    "df.head()"
   ]
  },
  {
   "cell_type": "code",
   "execution_count": 12,
   "id": "4c730eda-3773-4586-86e9-d3dfd4863d21",
   "metadata": {
    "execution": {
     "iopub.execute_input": "2025-02-23T07:00:14.062046Z",
     "iopub.status.busy": "2025-02-23T07:00:14.061825Z",
     "iopub.status.idle": "2025-02-23T07:00:16.290253Z",
     "shell.execute_reply": "2025-02-23T07:00:16.288974Z",
     "shell.execute_reply.started": "2025-02-23T07:00:14.062026Z"
    }
   },
   "outputs": [],
   "source": [
    "reduced_df = df.dropna(subset=[\"subjects\", \"title\"])\n",
    "\n",
    "all_lines = list(reduced_df[\"work_id\"])\n",
    "with open(os.path.join(data_base_path, \"work_ids.txt\"), \"w\") as f:\n",
    "    for line in all_lines:\n",
    "        f.write(f\"{line.strip()}\\n\")"
   ]
  },
  {
   "cell_type": "markdown",
   "id": "e67dbb78-4357-4953-9973-694f6c725b6e",
   "metadata": {},
   "source": [
    "### Works"
   ]
  },
  {
   "cell_type": "code",
   "execution_count": 17,
   "id": "20cc0582-9d65-418f-84fd-f3df532a6567",
   "metadata": {
    "execution": {
     "iopub.execute_input": "2025-02-23T06:21:20.373814Z",
     "iopub.status.busy": "2025-02-23T06:21:20.373562Z",
     "iopub.status.idle": "2025-02-23T06:21:20.389945Z",
     "shell.execute_reply": "2025-02-23T06:21:20.389113Z",
     "shell.execute_reply.started": "2025-02-23T06:21:20.373794Z"
    }
   },
   "outputs": [],
   "source": [
    "# !zgrep -F -f data/work_ids.txt /mnt/data/public/openlibrary/20221007/ol_dump_works_latest.txt.gz > /home/msds2025/acastillo/dmw2-2025/lab1/dmw2/data/filtered_works_with_editions.txt"
   ]
  },
  {
   "cell_type": "code",
   "execution_count": 13,
   "id": "bfc187e8-91c1-4221-b4c8-9e5ba4f77a12",
   "metadata": {
    "execution": {
     "iopub.execute_input": "2025-02-23T07:00:16.292349Z",
     "iopub.status.busy": "2025-02-23T07:00:16.292059Z",
     "iopub.status.idle": "2025-02-23T07:00:16.797733Z",
     "shell.execute_reply": "2025-02-23T07:00:16.795781Z",
     "shell.execute_reply.started": "2025-02-23T07:00:16.292325Z"
    }
   },
   "outputs": [
    {
     "name": "stdout",
     "output_type": "stream",
     "text": [
      "909883 /home/msds2025/acastillo/dmw2-2025/lab1/dmw2/data/filtered_works_with_editions.txt\n"
     ]
    }
   ],
   "source": [
    "!wc -l /home/msds2025/acastillo/dmw2-2025/lab1/dmw2/data/filtered_works_with_editions.txt"
   ]
  },
  {
   "cell_type": "code",
   "execution_count": 14,
   "id": "ef241544-8352-4565-8c55-78b195901c8a",
   "metadata": {
    "execution": {
     "iopub.execute_input": "2025-02-23T07:00:16.800623Z",
     "iopub.status.busy": "2025-02-23T07:00:16.799964Z",
     "iopub.status.idle": "2025-02-23T07:00:16.834699Z",
     "shell.execute_reply": "2025-02-23T07:00:16.833866Z",
     "shell.execute_reply.started": "2025-02-23T07:00:16.800535Z"
    }
   },
   "outputs": [
    {
     "data": {
      "text/plain": [
       "909883"
      ]
     },
     "execution_count": 14,
     "metadata": {},
     "output_type": "execute_result"
    }
   ],
   "source": [
    "file_name = \"filtered_works_with_editions.txt\"\n",
    "total_lines = files[\"filtered_works_with_editions.txt\"][\"total_lines\"]\n",
    "total_lines"
   ]
  },
  {
   "cell_type": "code",
   "execution_count": 15,
   "id": "12cd7458-4ef7-4eae-9688-19870e37a672",
   "metadata": {
    "execution": {
     "iopub.execute_input": "2025-02-23T07:00:16.835511Z",
     "iopub.status.busy": "2025-02-23T07:00:16.835293Z",
     "iopub.status.idle": "2025-02-23T07:00:29.526963Z",
     "shell.execute_reply": "2025-02-23T07:00:29.526008Z",
     "shell.execute_reply.started": "2025-02-23T07:00:16.835491Z"
    }
   },
   "outputs": [
    {
     "name": "stderr",
     "output_type": "stream",
     "text": [
      "Processing lines: 100%|██████████| 909883/909883 [00:10<00:00, 88389.53it/s]\n"
     ]
    }
   ],
   "source": [
    "df_dict = {}\n",
    "\n",
    "with open(os.path.join(data_base_path, file_name), \"r\", encoding=\"utf-8\") as f:\n",
    "    for i, line in enumerate(tqdm(f, total=total_lines, desc=\"Processing lines\")):\n",
    "        # if i >= 100:\n",
    "        #     break\n",
    "        \n",
    "        parts = line.strip().split(\"\\t\", maxsplit=4)\n",
    "        if len(parts) < 5:\n",
    "            skipped_lines += 1\n",
    "            continue\n",
    "        \n",
    "        record_type, id, revision, timestamp, json_data = parts\n",
    "\n",
    "        try:\n",
    "            data_dict = json.loads(json_data)\n",
    "\n",
    "            try:\n",
    "                author_id = data_dict.get(\"authors\", [{}])[0].get(\"author\", {}).get(\"key\", np.nan)\n",
    "            except (IndexError, KeyError, AttributeError):\n",
    "                author_id = data_dict[\"authors\"][0][\"author\"]\n",
    "\n",
    "            row_data = {\n",
    "                \"record_type\": record_type,\n",
    "                \"work_id\": id,\n",
    "                \"title\": data_dict.get(\"title\", np.nan),\n",
    "                \"subjects\": data_dict.get(\"subjects\", np.nan),\n",
    "                \"last_modified\": data_dict.get(\"created\", {}).get(\"value\", np.nan),\n",
    "                \"latest_revision\": data_dict.get(\"latest_revision\", np.nan),\n",
    "                \"revision\": data_dict.get(\"revision\", np.nan),\n",
    "                \"author_type\": data_dict.get(\"authors\", [{}])[0].get(\"type\", np.nan),\n",
    "                \"author_id\": author_id,\n",
    "            }\n",
    "\n",
    "            df_dict[i] = row_data\n",
    "\n",
    "            # if all(value is not np.nan for value in row_data.values()):\n",
    "            #     df_dict[i] = row_data\n",
    "    \n",
    "        except json.JSONDecodeError:\n",
    "            print(f\"JSON Decode Error on line {i}\")"
   ]
  },
  {
   "cell_type": "code",
   "execution_count": 16,
   "id": "517fea0f-455e-400b-975f-12a3aee0d3aa",
   "metadata": {
    "execution": {
     "iopub.execute_input": "2025-02-23T07:00:29.528043Z",
     "iopub.status.busy": "2025-02-23T07:00:29.527824Z",
     "iopub.status.idle": "2025-02-23T07:00:35.896229Z",
     "shell.execute_reply": "2025-02-23T07:00:35.895374Z",
     "shell.execute_reply.started": "2025-02-23T07:00:29.528025Z"
    }
   },
   "outputs": [
    {
     "data": {
      "text/html": [
       "<div>\n",
       "<style scoped>\n",
       "    .dataframe tbody tr th:only-of-type {\n",
       "        vertical-align: middle;\n",
       "    }\n",
       "\n",
       "    .dataframe tbody tr th {\n",
       "        vertical-align: top;\n",
       "    }\n",
       "\n",
       "    .dataframe thead th {\n",
       "        text-align: right;\n",
       "    }\n",
       "</style>\n",
       "<table border=\"1\" class=\"dataframe\">\n",
       "  <thead>\n",
       "    <tr style=\"text-align: right;\">\n",
       "      <th></th>\n",
       "      <th>record_type</th>\n",
       "      <th>work_id</th>\n",
       "      <th>title</th>\n",
       "      <th>subjects</th>\n",
       "      <th>last_modified</th>\n",
       "      <th>latest_revision</th>\n",
       "      <th>revision</th>\n",
       "      <th>author_type</th>\n",
       "      <th>author_id</th>\n",
       "    </tr>\n",
       "  </thead>\n",
       "  <tbody>\n",
       "    <tr>\n",
       "      <th>0</th>\n",
       "      <td>/type/work</td>\n",
       "      <td>/works/OL10613658W</td>\n",
       "      <td>The unseen voice</td>\n",
       "      <td>[Radio broadcasting, australia]</td>\n",
       "      <td>2009-12-11T03:16:38.229415</td>\n",
       "      <td>5</td>\n",
       "      <td>5</td>\n",
       "      <td>{'key': '/type/author_role'}</td>\n",
       "      <td>/authors/OL4416271A</td>\n",
       "    </tr>\n",
       "    <tr>\n",
       "      <th>1</th>\n",
       "      <td>/type/work</td>\n",
       "      <td>/works/OL10677836W</td>\n",
       "      <td>The later Middle Ages in England, 1216-1485</td>\n",
       "      <td>[13th century, 14th century, History, Lancaste...</td>\n",
       "      <td>2009-12-11T03:24:56.987006</td>\n",
       "      <td>4</td>\n",
       "      <td>4</td>\n",
       "      <td>{'key': '/type/author_role'}</td>\n",
       "      <td>/authors/OL4455359A</td>\n",
       "    </tr>\n",
       "    <tr>\n",
       "      <th>2</th>\n",
       "      <td>/type/work</td>\n",
       "      <td>/works/OL11188173W</td>\n",
       "      <td>The nature of Christian worship</td>\n",
       "      <td>[Worship]</td>\n",
       "      <td>2009-12-11T04:11:24.980995</td>\n",
       "      <td>3</td>\n",
       "      <td>3</td>\n",
       "      <td>{'key': '/type/author_role'}</td>\n",
       "      <td>/authors/OL4674047A</td>\n",
       "    </tr>\n",
       "    <tr>\n",
       "      <th>3</th>\n",
       "      <td>/type/work</td>\n",
       "      <td>/works/OL11286673W</td>\n",
       "      <td>Heating and cooling of buildings</td>\n",
       "      <td>[Air conditioning, Design and construction, Eq...</td>\n",
       "      <td>2009-12-11T04:23:11.323166</td>\n",
       "      <td>4</td>\n",
       "      <td>4</td>\n",
       "      <td>{'key': '/type/author_role'}</td>\n",
       "      <td>/authors/OL4734998A</td>\n",
       "    </tr>\n",
       "    <tr>\n",
       "      <th>4</th>\n",
       "      <td>/type/work</td>\n",
       "      <td>/works/OL11821146W</td>\n",
       "      <td>Dynamische Fiskalpolitik</td>\n",
       "      <td>[Konjunkturmodell, Realer-Konjunkturzyklus-The...</td>\n",
       "      <td>2009-12-11T05:27:21.875721</td>\n",
       "      <td>4</td>\n",
       "      <td>4</td>\n",
       "      <td>{'key': '/type/author_role'}</td>\n",
       "      <td>/authors/OL5045591A</td>\n",
       "    </tr>\n",
       "  </tbody>\n",
       "</table>\n",
       "</div>"
      ],
      "text/plain": [
       "  record_type             work_id  \\\n",
       "0  /type/work  /works/OL10613658W   \n",
       "1  /type/work  /works/OL10677836W   \n",
       "2  /type/work  /works/OL11188173W   \n",
       "3  /type/work  /works/OL11286673W   \n",
       "4  /type/work  /works/OL11821146W   \n",
       "\n",
       "                                         title  \\\n",
       "0                             The unseen voice   \n",
       "1  The later Middle Ages in England, 1216-1485   \n",
       "2              The nature of Christian worship   \n",
       "3             Heating and cooling of buildings   \n",
       "4                     Dynamische Fiskalpolitik   \n",
       "\n",
       "                                            subjects  \\\n",
       "0                    [Radio broadcasting, australia]   \n",
       "1  [13th century, 14th century, History, Lancaste...   \n",
       "2                                          [Worship]   \n",
       "3  [Air conditioning, Design and construction, Eq...   \n",
       "4  [Konjunkturmodell, Realer-Konjunkturzyklus-The...   \n",
       "\n",
       "                last_modified  latest_revision  revision  \\\n",
       "0  2009-12-11T03:16:38.229415                5         5   \n",
       "1  2009-12-11T03:24:56.987006                4         4   \n",
       "2  2009-12-11T04:11:24.980995                3         3   \n",
       "3  2009-12-11T04:23:11.323166                4         4   \n",
       "4  2009-12-11T05:27:21.875721                4         4   \n",
       "\n",
       "                    author_type            author_id  \n",
       "0  {'key': '/type/author_role'}  /authors/OL4416271A  \n",
       "1  {'key': '/type/author_role'}  /authors/OL4455359A  \n",
       "2  {'key': '/type/author_role'}  /authors/OL4674047A  \n",
       "3  {'key': '/type/author_role'}  /authors/OL4734998A  \n",
       "4  {'key': '/type/author_role'}  /authors/OL5045591A  "
      ]
     },
     "execution_count": 16,
     "metadata": {},
     "output_type": "execute_result"
    }
   ],
   "source": [
    "df = pd.DataFrame.from_dict(df_dict, orient=\"index\")\n",
    "df.head()"
   ]
  },
  {
   "cell_type": "code",
   "execution_count": 18,
   "id": "421c92c0-abf3-4933-bfce-87fbd86c9b70",
   "metadata": {
    "execution": {
     "iopub.execute_input": "2025-02-23T07:00:54.353439Z",
     "iopub.status.busy": "2025-02-23T07:00:54.352264Z",
     "iopub.status.idle": "2025-02-23T07:00:55.683916Z",
     "shell.execute_reply": "2025-02-23T07:00:55.683072Z",
     "shell.execute_reply.started": "2025-02-23T07:00:54.353378Z"
    }
   },
   "outputs": [],
   "source": [
    "cleaned_works = df.dropna(subset=[\"author_type\"])\n",
    "cleaned_works\n",
    "\n",
    "all_lines = list(cleaned_works[\"author_id\"].str.strip())\n",
    "with open(os.path.join(data_base_path, \"author_ids.txt\"), \"w\", encoding=\"utf-8\") as f:\n",
    "    for line in all_lines:\n",
    "        f.write(f\"{line.strip()}\\n\")"
   ]
  },
  {
   "cell_type": "markdown",
   "id": "03ef1ad5-5112-41c4-92e9-4f3818282d9a",
   "metadata": {},
   "source": [
    "### Authors"
   ]
  },
  {
   "cell_type": "code",
   "execution_count": 31,
   "id": "067bbc53-c84d-4e9a-9907-a9476b2d4aaa",
   "metadata": {
    "execution": {
     "iopub.execute_input": "2025-02-23T06:21:25.274004Z",
     "iopub.status.busy": "2025-02-23T06:21:25.273809Z",
     "iopub.status.idle": "2025-02-23T06:21:25.289855Z",
     "shell.execute_reply": "2025-02-23T06:21:25.289004Z",
     "shell.execute_reply.started": "2025-02-23T06:21:25.273984Z"
    }
   },
   "outputs": [],
   "source": [
    "# !split -l 10000 data/author_ids.txt /home/msds2025/acastillo/dmw2-2025/lab1/dmw2/data/split/authors_split_\n",
    "\n",
    "# !ls data/split/authors_split_* | xargs -I{} zgrep -F -f {} /mnt/data/public/openlibrary/20221007/ol_dump_authors_latest.txt.gz >> /home/msds2025/acastillo/dmw2-2025/lab1/dmw2/data/filtered_authors_with_works_and_editions.txt\n"
   ]
  },
  {
   "cell_type": "code",
   "execution_count": 19,
   "id": "92eb835a-993f-43c7-a795-5a711030753b",
   "metadata": {
    "execution": {
     "iopub.execute_input": "2025-02-23T07:00:59.477848Z",
     "iopub.status.busy": "2025-02-23T07:00:59.476457Z",
     "iopub.status.idle": "2025-02-23T07:01:00.298814Z",
     "shell.execute_reply": "2025-02-23T07:01:00.296823Z",
     "shell.execute_reply.started": "2025-02-23T07:00:59.477790Z"
    }
   },
   "outputs": [
    {
     "name": "stdout",
     "output_type": "stream",
     "text": [
      "853086 /home/msds2025/acastillo/dmw2-2025/lab1/dmw2/data/filtered_authors_with_works_and_editions.txt\n"
     ]
    }
   ],
   "source": [
    "!wc -l /home/msds2025/acastillo/dmw2-2025/lab1/dmw2/data/filtered_authors_with_works_and_editions.txt"
   ]
  },
  {
   "cell_type": "code",
   "execution_count": 20,
   "id": "9472bda3-2e1c-4053-a33e-85a84cdf0754",
   "metadata": {
    "execution": {
     "iopub.execute_input": "2025-02-23T07:01:00.302860Z",
     "iopub.status.busy": "2025-02-23T07:01:00.302183Z",
     "iopub.status.idle": "2025-02-23T07:01:00.340368Z",
     "shell.execute_reply": "2025-02-23T07:01:00.339558Z",
     "shell.execute_reply.started": "2025-02-23T07:01:00.302794Z"
    }
   },
   "outputs": [
    {
     "data": {
      "text/plain": [
       "853086"
      ]
     },
     "execution_count": 20,
     "metadata": {},
     "output_type": "execute_result"
    }
   ],
   "source": [
    "file_name = \"filtered_authors_with_works_and_editions.txt\"\n",
    "total_lines = files[\"filtered_authors_with_works_and_editions.txt\"][\"total_lines\"]\n",
    "total_lines"
   ]
  },
  {
   "cell_type": "code",
   "execution_count": 21,
   "id": "c5afb749-06bc-4452-b430-56e0117ff978",
   "metadata": {
    "execution": {
     "iopub.execute_input": "2025-02-23T07:01:00.341097Z",
     "iopub.status.busy": "2025-02-23T07:01:00.340903Z",
     "iopub.status.idle": "2025-02-23T07:01:07.136612Z",
     "shell.execute_reply": "2025-02-23T07:01:07.133650Z",
     "shell.execute_reply.started": "2025-02-23T07:01:00.341079Z"
    }
   },
   "outputs": [
    {
     "name": "stderr",
     "output_type": "stream",
     "text": [
      "Processing lines: 100%|██████████| 853086/853086 [00:05<00:00, 146740.39it/s]\n"
     ]
    }
   ],
   "source": [
    "df_dict = {}\n",
    "\n",
    "with open(os.path.join(data_base_path, file_name), \"r\", encoding=\"utf-8\") as f:\n",
    "    for i, line in enumerate(tqdm(f, total=total_lines, desc=\"Processing lines\")):\n",
    "        # if i >= 100:\n",
    "        #     break\n",
    "        \n",
    "        parts = line.strip().split(\"\\t\", maxsplit=4)\n",
    "        if len(parts) < 5:\n",
    "            skipped_lines += 1\n",
    "            continue\n",
    "\n",
    "        record_type, id, revision, timestamp, json_data = parts\n",
    "\n",
    "        try:\n",
    "            data_dict = json.loads(json_data)\n",
    "\n",
    "            row_data = {\n",
    "                \"record_type\": record_type,\n",
    "                \"author_id\": id,\n",
    "                \"birth_date\": data_dict.get(\"birth_date\", np.nan),\n",
    "                \"death_date\": data_dict.get(\"death_date\", np.nan),\n",
    "                \"location\": data_dict.get(\"location\", np.nan)\n",
    "            }\n",
    "            \n",
    "            df_dict[i] = row_data\n",
    "\n",
    "            # if all(value is not np.nan for value in row_data.values()):\n",
    "            #     df_dict[i] = row_data\n",
    "    \n",
    "        except json.JSONDecodeError:\n",
    "            print(f\"JSON Decode Error on line {i}\")\n",
    "        "
   ]
  },
  {
   "cell_type": "code",
   "execution_count": 22,
   "id": "8e2dba36-44db-47ba-8487-eaf0e65c3404",
   "metadata": {
    "execution": {
     "iopub.execute_input": "2025-02-23T07:01:07.139621Z",
     "iopub.status.busy": "2025-02-23T07:01:07.138999Z",
     "iopub.status.idle": "2025-02-23T07:01:09.887434Z",
     "shell.execute_reply": "2025-02-23T07:01:09.886615Z",
     "shell.execute_reply.started": "2025-02-23T07:01:07.139548Z"
    }
   },
   "outputs": [
    {
     "data": {
      "text/html": [
       "<div>\n",
       "<style scoped>\n",
       "    .dataframe tbody tr th:only-of-type {\n",
       "        vertical-align: middle;\n",
       "    }\n",
       "\n",
       "    .dataframe tbody tr th {\n",
       "        vertical-align: top;\n",
       "    }\n",
       "\n",
       "    .dataframe thead th {\n",
       "        text-align: right;\n",
       "    }\n",
       "</style>\n",
       "<table border=\"1\" class=\"dataframe\">\n",
       "  <thead>\n",
       "    <tr style=\"text-align: right;\">\n",
       "      <th></th>\n",
       "      <th>record_type</th>\n",
       "      <th>author_id</th>\n",
       "      <th>birth_date</th>\n",
       "      <th>death_date</th>\n",
       "      <th>location</th>\n",
       "    </tr>\n",
       "  </thead>\n",
       "  <tbody>\n",
       "    <tr>\n",
       "      <th>0</th>\n",
       "      <td>/type/author</td>\n",
       "      <td>/authors/OL10259922A</td>\n",
       "      <td>NaN</td>\n",
       "      <td>NaN</td>\n",
       "      <td>NaN</td>\n",
       "    </tr>\n",
       "    <tr>\n",
       "      <th>1</th>\n",
       "      <td>/type/author</td>\n",
       "      <td>/authors/OL1521743A</td>\n",
       "      <td>NaN</td>\n",
       "      <td>NaN</td>\n",
       "      <td>NaN</td>\n",
       "    </tr>\n",
       "    <tr>\n",
       "      <th>2</th>\n",
       "      <td>/type/author</td>\n",
       "      <td>/authors/OL19377A</td>\n",
       "      <td>NaN</td>\n",
       "      <td>NaN</td>\n",
       "      <td>NaN</td>\n",
       "    </tr>\n",
       "    <tr>\n",
       "      <th>3</th>\n",
       "      <td>/type/author</td>\n",
       "      <td>/authors/OL2691435A</td>\n",
       "      <td>NaN</td>\n",
       "      <td>NaN</td>\n",
       "      <td>NaN</td>\n",
       "    </tr>\n",
       "    <tr>\n",
       "      <th>4</th>\n",
       "      <td>/type/author</td>\n",
       "      <td>/authors/OL3145407A</td>\n",
       "      <td>NaN</td>\n",
       "      <td>NaN</td>\n",
       "      <td>NaN</td>\n",
       "    </tr>\n",
       "  </tbody>\n",
       "</table>\n",
       "</div>"
      ],
      "text/plain": [
       "    record_type             author_id birth_date death_date location\n",
       "0  /type/author  /authors/OL10259922A        NaN        NaN      NaN\n",
       "1  /type/author   /authors/OL1521743A        NaN        NaN      NaN\n",
       "2  /type/author     /authors/OL19377A        NaN        NaN      NaN\n",
       "3  /type/author   /authors/OL2691435A        NaN        NaN      NaN\n",
       "4  /type/author   /authors/OL3145407A        NaN        NaN      NaN"
      ]
     },
     "execution_count": 22,
     "metadata": {},
     "output_type": "execute_result"
    }
   ],
   "source": [
    "df = pd.DataFrame.from_dict(df_dict, orient=\"index\")\n",
    "df.head()"
   ]
  },
  {
   "cell_type": "code",
   "execution_count": null,
   "id": "34d0ddc1-4c67-4c54-aade-4d66889b8da9",
   "metadata": {},
   "outputs": [],
   "source": []
  }
 ],
 "metadata": {
  "kernelspec": {
   "display_name": "Python [conda env:base] *",
   "language": "python",
   "name": "conda-base-py"
  },
  "language_info": {
   "codemirror_mode": {
    "name": "ipython",
    "version": 3
   },
   "file_extension": ".py",
   "mimetype": "text/x-python",
   "name": "python",
   "nbconvert_exporter": "python",
   "pygments_lexer": "ipython3",
   "version": "3.12.8"
  }
 },
 "nbformat": 4,
 "nbformat_minor": 5
}
